{
 "cells": [
  {
   "cell_type": "markdown",
   "id": "b1889824",
   "metadata": {},
   "source": [
    "# Stock prediction with simple classifier"
   ]
  },
  {
   "cell_type": "markdown",
   "id": "6be14c41",
   "metadata": {},
   "source": [
    "## Functions from the library PatternPy"
   ]
  },
  {
   "cell_type": "code",
   "execution_count": 1,
   "id": "9c33eb8c",
   "metadata": {},
   "outputs": [],
   "source": [
    "import pandas as pd\n",
    "import numpy as np\n",
    "\n",
    "\n",
    "def detect_head_shoulder(df, window=3):\n",
    "# Define the rolling window\n",
    "    roll_window = window\n",
    "    # Create a rolling window for High and Low\n",
    "    df['high_roll_max'] = df['High'].rolling(window=roll_window).max()\n",
    "    df['low_roll_min'] = df['Low'].rolling(window=roll_window).min()\n",
    "    # Create a boolean mask for Head and Shoulder pattern\n",
    "    mask_head_shoulder = ((df['high_roll_max'] > df['High'].shift(1)) & (df['high_roll_max'] > df['High'].shift(-1)) & (df['High'] < df['High'].shift(1)) & (df['High'] < df['High'].shift(-1)))\n",
    "    # Create a boolean mask for Inverse Head and Shoulder pattern\n",
    "    mask_inv_head_shoulder = ((df['low_roll_min'] < df['Low'].shift(1)) & (df['low_roll_min'] < df['Low'].shift(-1)) & (df['Low'] > df['Low'].shift(1)) & (df['Low'] > df['Low'].shift(-1)))\n",
    "    # Create a new column for Head and Shoulder and its inverse pattern and populate it using the boolean masks\n",
    "    df['head_shoulder_pattern'] = np.nan\n",
    "    df.loc[mask_head_shoulder, 'head_shoulder_pattern'] = 'Head and Shoulder'\n",
    "    df.loc[mask_inv_head_shoulder, 'head_shoulder_pattern'] = 'Inverse Head and Shoulder'\n",
    "    return df \n",
    "    # return not df['head_shoulder_pattern'].isna().any().item()\n",
    "\n",
    "def detect_multiple_tops_bottoms(df, window=3):\n",
    "# Define the rolling window\n",
    "    roll_window = window\n",
    "    # Create a rolling window for High and Low\n",
    "    df['high_roll_max'] = df['High'].rolling(window=roll_window).max()\n",
    "    df['low_roll_min'] = df['Low'].rolling(window=roll_window).min()\n",
    "    df['close_roll_max'] = df['Close'].rolling(window=roll_window).max()\n",
    "    df['close_roll_min'] = df['Close'].rolling(window=roll_window).min()\n",
    "    # Create a boolean mask for multiple top pattern\n",
    "    mask_top = (df['high_roll_max'] >= df['High'].shift(1)) & (df['close_roll_max'] < df['Close'].shift(1))\n",
    "    # Create a boolean mask for multiple bottom pattern\n",
    "    mask_bottom = (df['low_roll_min'] <= df['Low'].shift(1)) & (df['close_roll_min'] > df['Close'].shift(1))\n",
    "    # Create a new column for multiple top bottom pattern and populate it using the boolean masks\n",
    "    df['multiple_top_bottom_pattern'] = np.nan\n",
    "    df.loc[mask_top, 'multiple_top_bottom_pattern'] = 'Multiple Top'\n",
    "    df.loc[mask_bottom, 'multiple_top_bottom_pattern'] = 'Multiple Bottom'\n",
    "    return df\n",
    "\n",
    "def calculate_support_resistance(df, window=3):\n",
    "# Define the rolling window\n",
    "    roll_window = window\n",
    "    # Set the number of standard deviation\n",
    "    std_dev = 2\n",
    "    # Create a rolling window for High and Low\n",
    "    df['high_roll_max'] = df['High'].rolling(window=roll_window).max()\n",
    "    df['low_roll_min'] = df['Low'].rolling(window=roll_window).min()\n",
    "    # Calculate the mean and standard deviation for High and Low\n",
    "    mean_high = df['High'].rolling(window=roll_window).mean()\n",
    "    std_high = df['High'].rolling(window=roll_window).std()\n",
    "    mean_low = df['Low'].rolling(window=roll_window).mean()\n",
    "    std_low = df['Low'].rolling(window=roll_window).std()\n",
    "    # Create a new column for support and resistance\n",
    "    df['support'] = mean_low - std_dev * std_low\n",
    "    df['resistance'] = mean_high + std_dev * std_high\n",
    "    return df\n",
    "def detect_triangle_pattern(df, window=3):\n",
    "    # Define the rolling window\n",
    "    roll_window = window\n",
    "    # Create a rolling window for High and Low\n",
    "    df['high_roll_max'] = df['High'].rolling(window=roll_window).max()\n",
    "    df['low_roll_min'] = df['Low'].rolling(window=roll_window).min()\n",
    "    # Create a boolean mask for ascending triangle pattern\n",
    "    mask_asc = (df['high_roll_max'] >= df['High'].shift(1)) & (df['low_roll_min'] <= df['Low'].shift(1)) & (df['Close'] > df['Close'].shift(1))\n",
    "    # Create a boolean mask for descending triangle pattern\n",
    "    mask_desc = (df['high_roll_max'] <= df['High'].shift(1)) & (df['low_roll_min'] >= df['Low'].shift(1)) & (df['Close'] < df['Close'].shift(1))\n",
    "    # Create a new column for triangle pattern and populate it using the boolean masks\n",
    "    df['triangle_pattern'] = np.nan\n",
    "    df.loc[mask_asc, 'triangle_pattern'] = 'Ascending Triangle'\n",
    "    df.loc[mask_desc, 'triangle_pattern'] = 'Descending Triangle'\n",
    "    return df\n",
    "\n",
    "def detect_wedge(df, window=3):\n",
    "    # Define the rolling window\n",
    "    roll_window = window\n",
    "    # Create a rolling window for High and Low\n",
    "    df['high_roll_max'] = df['High'].rolling(window=roll_window).max()\n",
    "    df['low_roll_min'] = df['Low'].rolling(window=roll_window).min()\n",
    "    df['trend_high'] = df['High'].rolling(window=roll_window).apply(lambda x: 1 if (x[-1]-x[0])>0 else -1 if (x[-1]-x[0])<0 else 0)\n",
    "    df['trend_low'] = df['Low'].rolling(window=roll_window).apply(lambda x: 1 if (x[-1]-x[0])>0 else -1 if (x[-1]-x[0])<0 else 0)\n",
    "    # Create a boolean mask for Wedge Up pattern\n",
    "    mask_wedge_up = (df['high_roll_max'] >= df['High'].shift(1)) & (df['low_roll_min'] <= df['Low'].shift(1)) & (df['trend_high'] == 1) & (df['trend_low'] == 1)\n",
    "    # Create a boolean mask for Wedge Down pattern\n",
    "        # Create a boolean mask for Wedge Down pattern\n",
    "    mask_wedge_down = (df['high_roll_max'] <= df['High'].shift(1)) & (df['low_roll_min'] >= df['Low'].shift(1)) & (df['trend_high'] == -1) & (df['trend_low'] == -1)\n",
    "    # Create a new column for Wedge Up and Wedge Down pattern and populate it using the boolean masks\n",
    "    df['wedge_pattern'] = np.nan\n",
    "    df.loc[mask_wedge_up, 'wedge_pattern'] = 'Wedge Up'\n",
    "    df.loc[mask_wedge_down, 'wedge_pattern'] = 'Wedge Down'\n",
    "    return df\n",
    "def detect_channel(df, window=3):\n",
    "    # Define the rolling window\n",
    "    roll_window = window\n",
    "    # Define a factor to check for the range of channel\n",
    "    channel_range = 0.1\n",
    "    # Create a rolling window for High and Low\n",
    "    df['high_roll_max'] = df['High'].rolling(window=roll_window).max()\n",
    "    df['low_roll_min'] = df['Low'].rolling(window=roll_window).min()\n",
    "    df['trend_high'] = df['High'].rolling(window=roll_window).apply(lambda x: 1 if (x[-1]-x[0])>0 else -1 if (x[-1]-x[0])<0 else 0)\n",
    "    df['trend_low'] = df['Low'].rolling(window=roll_window).apply(lambda x: 1 if (x[-1]-x[0])>0 else -1 if (x[-1]-x[0])<0 else 0)\n",
    "    # Create a boolean mask for Channel Up pattern\n",
    "    mask_channel_up = (df['high_roll_max'] >= df['High'].shift(1)) & (df['low_roll_min'] <= df['Low'].shift(1)) & (df['high_roll_max'] - df['low_roll_min'] <= channel_range * (df['high_roll_max'] + df['low_roll_min'])/2) & (df['trend_high'] == 1) & (df['trend_low'] == 1)\n",
    "    # Create a boolean mask for Channel Down pattern\n",
    "    mask_channel_down = (df['high_roll_max'] <= df['High'].shift(1)) & (df['low_roll_min'] >= df['Low'].shift(1)) & (df['high_roll_max'] - df['low_roll_min'] <= channel_range * (df['high_roll_max'] + df['low_roll_min'])/2) & (df['trend_high'] == -1) & (df['trend_low'] == -1)\n",
    "    # Create a new column for Channel Up and Channel Down pattern and populate it using the boolean masks\n",
    "    df['channel_pattern'] = np.nan\n",
    "    df.loc[mask_channel_up, 'channel_pattern'] = 'Channel Up'\n",
    "    df.loc[mask_channel_down, 'channel_pattern'] = 'Channel Down'\n",
    "    return df\n",
    "\n",
    "def detect_double_top_bottom(df, window=3, threshold=0.05):\n",
    "    # Define the rolling window\n",
    "    roll_window = window\n",
    "    # Define a threshold to check for the range of pattern\n",
    "    range_threshold = threshold\n",
    "\n",
    "    # Create a rolling window for High and Low\n",
    "    df['high_roll_max'] = df['High'].rolling(window=roll_window).max()\n",
    "    df['low_roll_min'] = df['Low'].rolling(window=roll_window).min()\n",
    "\n",
    "    # Create a boolean mask for Double Top pattern\n",
    "    mask_double_top = (df['high_roll_max'] >= df['High'].shift(1)) & (df['high_roll_max'] >= df['High'].shift(-1)) & (df['High'] < df['High'].shift(1)) & (df['High'] < df['High'].shift(-1)) & ((df['High'].shift(1) - df['Low'].shift(1)) <= range_threshold * (df['High'].shift(1) + df['Low'].shift(1))/2) & ((df['High'].shift(-1) - df['Low'].shift(-1)) <= range_threshold * (df['High'].shift(-1) + df['Low'].shift(-1))/2)\n",
    "    # Create a boolean mask for Double Bottom pattern\n",
    "    mask_double_bottom = (df['low_roll_min'] <= df['Low'].shift(1)) & (df['low_roll_min'] <= df['Low'].shift(-1)) & (df['Low'] > df['Low'].shift(1)) & (df['Low'] > df['Low'].shift(-1)) & ((df['High'].shift(1) - df['Low'].shift(1)) <= range_threshold * (df['High'].shift(1) + df['Low'].shift(1))/2) & ((df['High'].shift(-1) - df['Low'].shift(-1)) <= range_threshold * (df['High'].shift(-1) + df['Low'].shift(-1))/2)\n",
    "\n",
    "    # Create a new column for Double Top and Double Bottom pattern and populate it using the boolean masks\n",
    "    df['double_pattern'] = np.nan\n",
    "    df.loc[mask_double_top, 'double_pattern'] = 'Double Top'\n",
    "    df.loc[mask_double_bottom, 'double_pattern'] = 'Double Bottom'\n",
    "\n",
    "    return df\n",
    "\n",
    "def detect_trendline(df, window=2):\n",
    "    # Define the rolling window\n",
    "    roll_window = window\n",
    "    # Create new columns for the linear regression slope and y-intercept\n",
    "    df['slope'] = np.nan\n",
    "    df['intercept'] = np.nan\n",
    "\n",
    "    for i in range(window, len(df)):\n",
    "        x = np.array(range(i-window, i))\n",
    "        y = df['Close'][i-window:i]\n",
    "        A = np.vstack([x, np.ones(len(x))]).T\n",
    "        m, c = np.linalg.lstsq(A, y, rcond=None)[0]\n",
    "        df.at[df.index[i], 'slope'] = m\n",
    "        df.at[df.index[i], 'intercept'] = c\n",
    "\n",
    "    # Create a boolean mask for trendline support\n",
    "    mask_support = df['slope'] > 0\n",
    "\n",
    "    # Create a boolean mask for trendline resistance\n",
    "    mask_resistance = df['slope'] < 0\n",
    "\n",
    "    # Create new columns for trendline support and resistance\n",
    "    df['support'] = np.nan\n",
    "    df['resistance'] = np.nan\n",
    "\n",
    "    # Populate the new columns using the boolean masks\n",
    "    df.loc[mask_support, 'support'] = df['Close'] * df['slope'] + df['intercept']\n",
    "    df.loc[mask_resistance, 'resistance'] = df['Close'] * df['slope'] + df['intercept']\n",
    "\n",
    "    return df\n",
    "\n",
    "def find_pivots(df):\n",
    "    # Calculate differences between consecutive highs and lows\n",
    "    high_diffs = df['high'].diff()\n",
    "    low_diffs = df['low'].diff()\n",
    "\n",
    "    # Find higher high\n",
    "    higher_high_mask = (high_diffs > 0) & (high_diffs.shift(-1) < 0)\n",
    "    \n",
    "    # Find lower low\n",
    "    lower_low_mask = (low_diffs < 0) & (low_diffs.shift(-1) > 0)\n",
    "\n",
    "    # Find lower high\n",
    "    lower_high_mask = (high_diffs < 0) & (high_diffs.shift(-1) > 0)\n",
    "\n",
    "    # Find higher low\n",
    "    higher_low_mask = (low_diffs > 0) & (low_diffs.shift(-1) < 0)\n",
    "\n",
    "    # Create signals column\n",
    "    df['signal'] = ''\n",
    "    df.loc[higher_high_mask, 'signal'] = 'HH'\n",
    "    df.loc[lower_low_mask, 'signal'] = 'LL'\n",
    "    df.loc[lower_high_mask, 'signal'] = 'LH'\n",
    "    df.loc[higher_low_mask, 'signal'] = 'HL'\n",
    "\n",
    "    return df\n"
   ]
  },
  {
   "cell_type": "markdown",
   "id": "e56515b1",
   "metadata": {},
   "source": [
    "## Reading data from Yahoo Finance for Coca Cola and S&P 500"
   ]
  },
  {
   "cell_type": "code",
   "execution_count": 2,
   "id": "4273e89e",
   "metadata": {},
   "outputs": [
    {
     "name": "stdout",
     "output_type": "stream",
     "text": [
      "[*********************100%%**********************]  1 of 1 completed\n",
      "[*********************100%%**********************]  1 of 1 completed\n"
     ]
    }
   ],
   "source": [
    "import yfinance as yf\n",
    "\n",
    "ticker = 'KO'\n",
    "\n",
    "df = yf.download(ticker)\n",
    "\n",
    "SP500_ticker = '^GSPC'\n",
    "\n",
    "df_500 = yf.download(SP500_ticker)"
   ]
  },
  {
   "cell_type": "markdown",
   "id": "91a22f09",
   "metadata": {},
   "source": [
    "## Cleaning data, feature engineering"
   ]
  },
  {
   "cell_type": "code",
   "execution_count": 3,
   "id": "e92f7378",
   "metadata": {},
   "outputs": [],
   "source": [
    "df_500 = df_500['Close'].to_frame()\n",
    "df_500.rename(columns = {'Close': 'Close500'}, inplace = True)\n",
    "df_500['Tomorrow500'] = df_500['Close500'].shift(-1).copy()\n",
    "df_500['Change500'] = df_500['Tomorrow500'].div(df_500['Close500'])\n",
    "df_500['Target500'] = ((df_500['Tomorrow500'] > df_500['Close500'])).astype(int)"
   ]
  },
  {
   "cell_type": "code",
   "execution_count": 4,
   "id": "bb00c5d6",
   "metadata": {},
   "outputs": [],
   "source": [
    "df = df.merge(df_500, how = 'left', left_index = True , right_index = True)"
   ]
  },
  {
   "cell_type": "code",
   "execution_count": 5,
   "id": "99c3db39",
   "metadata": {},
   "outputs": [],
   "source": [
    "df['Tomorrow'] = df['Close'].shift(-1).copy()\n",
    "df['Change'] = df['Tomorrow'].div(df['Close'])\n",
    "df['Target'] = ((df['Tomorrow'] > df['Close'])).astype(int)"
   ]
  },
  {
   "cell_type": "code",
   "execution_count": 6,
   "id": "1446d78e",
   "metadata": {},
   "outputs": [],
   "source": [
    "horizons = [2,5,60,250,1000]\n",
    "new_predictors = []\n",
    "\n",
    "for horizon in horizons:\n",
    "    rolling_averages = df.rolling(horizon).mean()\n",
    "    \n",
    "    ratio_column = f\"Close_Ratio_{horizon}\"\n",
    "    df[ratio_column] = df[\"Close\"] / rolling_averages[\"Close\"]\n",
    "    \n",
    "    trend_column = f\"Trend_{horizon}\"\n",
    "    df[trend_column] = df.shift(1).rolling(horizon).sum()[\"Target\"]\n",
    "    \n",
    "    new_predictors+= [ratio_column, trend_column]"
   ]
  },
  {
   "cell_type": "code",
   "execution_count": 7,
   "id": "3d7d4ef7",
   "metadata": {},
   "outputs": [],
   "source": [
    "horizons = [2,5,60,250,1000]\n",
    "new_predictors = []\n",
    "\n",
    "for horizon in horizons:\n",
    "    rolling_averages = df.rolling(horizon).mean()\n",
    "    \n",
    "    ratio_column = f\"Close_Ratio500_{horizon}\"\n",
    "    df[ratio_column] = df[\"Close500\"] / rolling_averages[\"Close500\"]\n",
    "    \n",
    "    trend_column = f\"Trend500_{horizon}\"\n",
    "    df[trend_column] = df.shift(1).rolling(horizon).sum()[\"Target500\"]\n",
    "    \n",
    "    new_predictors+= [ratio_column, trend_column]"
   ]
  },
  {
   "cell_type": "code",
   "execution_count": 8,
   "id": "8166bfbe",
   "metadata": {},
   "outputs": [
    {
     "data": {
      "text/html": [
       "<div>\n",
       "<style scoped>\n",
       "    .dataframe tbody tr th:only-of-type {\n",
       "        vertical-align: middle;\n",
       "    }\n",
       "\n",
       "    .dataframe tbody tr th {\n",
       "        vertical-align: top;\n",
       "    }\n",
       "\n",
       "    .dataframe thead th {\n",
       "        text-align: right;\n",
       "    }\n",
       "</style>\n",
       "<table border=\"1\" class=\"dataframe\">\n",
       "  <thead>\n",
       "    <tr style=\"text-align: right;\">\n",
       "      <th></th>\n",
       "      <th>Open</th>\n",
       "      <th>High</th>\n",
       "      <th>Low</th>\n",
       "      <th>Close</th>\n",
       "      <th>Adj Close</th>\n",
       "      <th>Volume</th>\n",
       "      <th>Close500</th>\n",
       "      <th>Tomorrow500</th>\n",
       "      <th>Change500</th>\n",
       "      <th>Target500</th>\n",
       "      <th>...</th>\n",
       "      <th>Close_Ratio500_2</th>\n",
       "      <th>Trend500_2</th>\n",
       "      <th>Close_Ratio500_5</th>\n",
       "      <th>Trend500_5</th>\n",
       "      <th>Close_Ratio500_60</th>\n",
       "      <th>Trend500_60</th>\n",
       "      <th>Close_Ratio500_250</th>\n",
       "      <th>Trend500_250</th>\n",
       "      <th>Close_Ratio500_1000</th>\n",
       "      <th>Trend500_1000</th>\n",
       "    </tr>\n",
       "    <tr>\n",
       "      <th>Date</th>\n",
       "      <th></th>\n",
       "      <th></th>\n",
       "      <th></th>\n",
       "      <th></th>\n",
       "      <th></th>\n",
       "      <th></th>\n",
       "      <th></th>\n",
       "      <th></th>\n",
       "      <th></th>\n",
       "      <th></th>\n",
       "      <th></th>\n",
       "      <th></th>\n",
       "      <th></th>\n",
       "      <th></th>\n",
       "      <th></th>\n",
       "      <th></th>\n",
       "      <th></th>\n",
       "      <th></th>\n",
       "      <th></th>\n",
       "      <th></th>\n",
       "      <th></th>\n",
       "    </tr>\n",
       "  </thead>\n",
       "  <tbody>\n",
       "    <tr>\n",
       "      <th>1962-01-02</th>\n",
       "      <td>0.263021</td>\n",
       "      <td>0.270182</td>\n",
       "      <td>0.263021</td>\n",
       "      <td>0.263021</td>\n",
       "      <td>0.048145</td>\n",
       "      <td>806400</td>\n",
       "      <td>70.959999</td>\n",
       "      <td>71.129997</td>\n",
       "      <td>1.002396</td>\n",
       "      <td>1</td>\n",
       "      <td>...</td>\n",
       "      <td>NaN</td>\n",
       "      <td>NaN</td>\n",
       "      <td>NaN</td>\n",
       "      <td>NaN</td>\n",
       "      <td>NaN</td>\n",
       "      <td>NaN</td>\n",
       "      <td>NaN</td>\n",
       "      <td>NaN</td>\n",
       "      <td>NaN</td>\n",
       "      <td>NaN</td>\n",
       "    </tr>\n",
       "    <tr>\n",
       "      <th>1962-01-03</th>\n",
       "      <td>0.259115</td>\n",
       "      <td>0.259115</td>\n",
       "      <td>0.253255</td>\n",
       "      <td>0.257161</td>\n",
       "      <td>0.047072</td>\n",
       "      <td>1574400</td>\n",
       "      <td>71.129997</td>\n",
       "      <td>70.639999</td>\n",
       "      <td>0.993111</td>\n",
       "      <td>0</td>\n",
       "      <td>...</td>\n",
       "      <td>1.001196</td>\n",
       "      <td>NaN</td>\n",
       "      <td>NaN</td>\n",
       "      <td>NaN</td>\n",
       "      <td>NaN</td>\n",
       "      <td>NaN</td>\n",
       "      <td>NaN</td>\n",
       "      <td>NaN</td>\n",
       "      <td>NaN</td>\n",
       "      <td>NaN</td>\n",
       "    </tr>\n",
       "    <tr>\n",
       "      <th>1962-01-04</th>\n",
       "      <td>0.257813</td>\n",
       "      <td>0.261068</td>\n",
       "      <td>0.257813</td>\n",
       "      <td>0.259115</td>\n",
       "      <td>0.047430</td>\n",
       "      <td>844800</td>\n",
       "      <td>70.639999</td>\n",
       "      <td>69.660004</td>\n",
       "      <td>0.986127</td>\n",
       "      <td>0</td>\n",
       "      <td>...</td>\n",
       "      <td>0.996544</td>\n",
       "      <td>1.0</td>\n",
       "      <td>NaN</td>\n",
       "      <td>NaN</td>\n",
       "      <td>NaN</td>\n",
       "      <td>NaN</td>\n",
       "      <td>NaN</td>\n",
       "      <td>NaN</td>\n",
       "      <td>NaN</td>\n",
       "      <td>NaN</td>\n",
       "    </tr>\n",
       "    <tr>\n",
       "      <th>1962-01-05</th>\n",
       "      <td>0.259115</td>\n",
       "      <td>0.262370</td>\n",
       "      <td>0.252604</td>\n",
       "      <td>0.253255</td>\n",
       "      <td>0.046357</td>\n",
       "      <td>1420800</td>\n",
       "      <td>69.660004</td>\n",
       "      <td>69.120003</td>\n",
       "      <td>0.992248</td>\n",
       "      <td>0</td>\n",
       "      <td>...</td>\n",
       "      <td>0.993015</td>\n",
       "      <td>0.0</td>\n",
       "      <td>NaN</td>\n",
       "      <td>NaN</td>\n",
       "      <td>NaN</td>\n",
       "      <td>NaN</td>\n",
       "      <td>NaN</td>\n",
       "      <td>NaN</td>\n",
       "      <td>NaN</td>\n",
       "      <td>NaN</td>\n",
       "    </tr>\n",
       "    <tr>\n",
       "      <th>1962-01-08</th>\n",
       "      <td>0.251302</td>\n",
       "      <td>0.251302</td>\n",
       "      <td>0.245768</td>\n",
       "      <td>0.250651</td>\n",
       "      <td>0.045880</td>\n",
       "      <td>2035200</td>\n",
       "      <td>69.120003</td>\n",
       "      <td>69.150002</td>\n",
       "      <td>1.000434</td>\n",
       "      <td>1</td>\n",
       "      <td>...</td>\n",
       "      <td>0.996109</td>\n",
       "      <td>0.0</td>\n",
       "      <td>0.983187</td>\n",
       "      <td>NaN</td>\n",
       "      <td>NaN</td>\n",
       "      <td>NaN</td>\n",
       "      <td>NaN</td>\n",
       "      <td>NaN</td>\n",
       "      <td>NaN</td>\n",
       "      <td>NaN</td>\n",
       "    </tr>\n",
       "    <tr>\n",
       "      <th>...</th>\n",
       "      <td>...</td>\n",
       "      <td>...</td>\n",
       "      <td>...</td>\n",
       "      <td>...</td>\n",
       "      <td>...</td>\n",
       "      <td>...</td>\n",
       "      <td>...</td>\n",
       "      <td>...</td>\n",
       "      <td>...</td>\n",
       "      <td>...</td>\n",
       "      <td>...</td>\n",
       "      <td>...</td>\n",
       "      <td>...</td>\n",
       "      <td>...</td>\n",
       "      <td>...</td>\n",
       "      <td>...</td>\n",
       "      <td>...</td>\n",
       "      <td>...</td>\n",
       "      <td>...</td>\n",
       "      <td>...</td>\n",
       "      <td>...</td>\n",
       "    </tr>\n",
       "    <tr>\n",
       "      <th>2023-12-19</th>\n",
       "      <td>59.000000</td>\n",
       "      <td>59.200001</td>\n",
       "      <td>58.639999</td>\n",
       "      <td>58.830002</td>\n",
       "      <td>58.830002</td>\n",
       "      <td>14612200</td>\n",
       "      <td>4768.370117</td>\n",
       "      <td>4698.350098</td>\n",
       "      <td>0.985316</td>\n",
       "      <td>0</td>\n",
       "      <td>...</td>\n",
       "      <td>1.002925</td>\n",
       "      <td>2.0</td>\n",
       "      <td>1.007909</td>\n",
       "      <td>4.0</td>\n",
       "      <td>1.079160</td>\n",
       "      <td>37.0</td>\n",
       "      <td>1.119893</td>\n",
       "      <td>135.0</td>\n",
       "      <td>1.203954</td>\n",
       "      <td>529.0</td>\n",
       "    </tr>\n",
       "    <tr>\n",
       "      <th>2023-12-20</th>\n",
       "      <td>58.500000</td>\n",
       "      <td>58.669998</td>\n",
       "      <td>57.570000</td>\n",
       "      <td>57.610001</td>\n",
       "      <td>57.610001</td>\n",
       "      <td>17701000</td>\n",
       "      <td>4698.350098</td>\n",
       "      <td>4746.750000</td>\n",
       "      <td>1.010301</td>\n",
       "      <td>1</td>\n",
       "      <td>...</td>\n",
       "      <td>0.992604</td>\n",
       "      <td>1.0</td>\n",
       "      <td>0.993476</td>\n",
       "      <td>3.0</td>\n",
       "      <td>1.061612</td>\n",
       "      <td>37.0</td>\n",
       "      <td>1.102599</td>\n",
       "      <td>134.0</td>\n",
       "      <td>1.185835</td>\n",
       "      <td>528.0</td>\n",
       "    </tr>\n",
       "    <tr>\n",
       "      <th>2023-12-21</th>\n",
       "      <td>57.849998</td>\n",
       "      <td>58.070000</td>\n",
       "      <td>57.470001</td>\n",
       "      <td>57.990002</td>\n",
       "      <td>57.990002</td>\n",
       "      <td>11725100</td>\n",
       "      <td>4746.750000</td>\n",
       "      <td>4754.629883</td>\n",
       "      <td>1.001660</td>\n",
       "      <td>1</td>\n",
       "      <td>...</td>\n",
       "      <td>1.005124</td>\n",
       "      <td>1.0</td>\n",
       "      <td>1.002557</td>\n",
       "      <td>3.0</td>\n",
       "      <td>1.070644</td>\n",
       "      <td>37.0</td>\n",
       "      <td>1.112992</td>\n",
       "      <td>135.0</td>\n",
       "      <td>1.197601</td>\n",
       "      <td>528.0</td>\n",
       "    </tr>\n",
       "    <tr>\n",
       "      <th>2023-12-22</th>\n",
       "      <td>58.119999</td>\n",
       "      <td>58.459999</td>\n",
       "      <td>58.020000</td>\n",
       "      <td>58.320000</td>\n",
       "      <td>58.320000</td>\n",
       "      <td>9028500</td>\n",
       "      <td>4754.629883</td>\n",
       "      <td>4774.750000</td>\n",
       "      <td>1.004232</td>\n",
       "      <td>1</td>\n",
       "      <td>...</td>\n",
       "      <td>1.000829</td>\n",
       "      <td>2.0</td>\n",
       "      <td>1.002720</td>\n",
       "      <td>4.0</td>\n",
       "      <td>1.070590</td>\n",
       "      <td>37.0</td>\n",
       "      <td>1.113889</td>\n",
       "      <td>135.0</td>\n",
       "      <td>1.199129</td>\n",
       "      <td>529.0</td>\n",
       "    </tr>\n",
       "    <tr>\n",
       "      <th>2023-12-26</th>\n",
       "      <td>58.060001</td>\n",
       "      <td>58.709999</td>\n",
       "      <td>58.060001</td>\n",
       "      <td>58.560001</td>\n",
       "      <td>58.560001</td>\n",
       "      <td>6421000</td>\n",
       "      <td>4774.750000</td>\n",
       "      <td>NaN</td>\n",
       "      <td>NaN</td>\n",
       "      <td>0</td>\n",
       "      <td>...</td>\n",
       "      <td>1.002111</td>\n",
       "      <td>2.0</td>\n",
       "      <td>1.005513</td>\n",
       "      <td>4.0</td>\n",
       "      <td>1.073161</td>\n",
       "      <td>38.0</td>\n",
       "      <td>1.117612</td>\n",
       "      <td>136.0</td>\n",
       "      <td>1.203740</td>\n",
       "      <td>529.0</td>\n",
       "    </tr>\n",
       "  </tbody>\n",
       "</table>\n",
       "<p>15603 rows × 33 columns</p>\n",
       "</div>"
      ],
      "text/plain": [
       "                 Open       High        Low      Close  Adj Close    Volume  \\\n",
       "Date                                                                          \n",
       "1962-01-02   0.263021   0.270182   0.263021   0.263021   0.048145    806400   \n",
       "1962-01-03   0.259115   0.259115   0.253255   0.257161   0.047072   1574400   \n",
       "1962-01-04   0.257813   0.261068   0.257813   0.259115   0.047430    844800   \n",
       "1962-01-05   0.259115   0.262370   0.252604   0.253255   0.046357   1420800   \n",
       "1962-01-08   0.251302   0.251302   0.245768   0.250651   0.045880   2035200   \n",
       "...               ...        ...        ...        ...        ...       ...   \n",
       "2023-12-19  59.000000  59.200001  58.639999  58.830002  58.830002  14612200   \n",
       "2023-12-20  58.500000  58.669998  57.570000  57.610001  57.610001  17701000   \n",
       "2023-12-21  57.849998  58.070000  57.470001  57.990002  57.990002  11725100   \n",
       "2023-12-22  58.119999  58.459999  58.020000  58.320000  58.320000   9028500   \n",
       "2023-12-26  58.060001  58.709999  58.060001  58.560001  58.560001   6421000   \n",
       "\n",
       "               Close500  Tomorrow500  Change500  Target500  ...  \\\n",
       "Date                                                        ...   \n",
       "1962-01-02    70.959999    71.129997   1.002396          1  ...   \n",
       "1962-01-03    71.129997    70.639999   0.993111          0  ...   \n",
       "1962-01-04    70.639999    69.660004   0.986127          0  ...   \n",
       "1962-01-05    69.660004    69.120003   0.992248          0  ...   \n",
       "1962-01-08    69.120003    69.150002   1.000434          1  ...   \n",
       "...                 ...          ...        ...        ...  ...   \n",
       "2023-12-19  4768.370117  4698.350098   0.985316          0  ...   \n",
       "2023-12-20  4698.350098  4746.750000   1.010301          1  ...   \n",
       "2023-12-21  4746.750000  4754.629883   1.001660          1  ...   \n",
       "2023-12-22  4754.629883  4774.750000   1.004232          1  ...   \n",
       "2023-12-26  4774.750000          NaN        NaN          0  ...   \n",
       "\n",
       "            Close_Ratio500_2  Trend500_2  Close_Ratio500_5  Trend500_5  \\\n",
       "Date                                                                     \n",
       "1962-01-02               NaN         NaN               NaN         NaN   \n",
       "1962-01-03          1.001196         NaN               NaN         NaN   \n",
       "1962-01-04          0.996544         1.0               NaN         NaN   \n",
       "1962-01-05          0.993015         0.0               NaN         NaN   \n",
       "1962-01-08          0.996109         0.0          0.983187         NaN   \n",
       "...                      ...         ...               ...         ...   \n",
       "2023-12-19          1.002925         2.0          1.007909         4.0   \n",
       "2023-12-20          0.992604         1.0          0.993476         3.0   \n",
       "2023-12-21          1.005124         1.0          1.002557         3.0   \n",
       "2023-12-22          1.000829         2.0          1.002720         4.0   \n",
       "2023-12-26          1.002111         2.0          1.005513         4.0   \n",
       "\n",
       "            Close_Ratio500_60  Trend500_60  Close_Ratio500_250  Trend500_250  \\\n",
       "Date                                                                           \n",
       "1962-01-02                NaN          NaN                 NaN           NaN   \n",
       "1962-01-03                NaN          NaN                 NaN           NaN   \n",
       "1962-01-04                NaN          NaN                 NaN           NaN   \n",
       "1962-01-05                NaN          NaN                 NaN           NaN   \n",
       "1962-01-08                NaN          NaN                 NaN           NaN   \n",
       "...                       ...          ...                 ...           ...   \n",
       "2023-12-19           1.079160         37.0            1.119893         135.0   \n",
       "2023-12-20           1.061612         37.0            1.102599         134.0   \n",
       "2023-12-21           1.070644         37.0            1.112992         135.0   \n",
       "2023-12-22           1.070590         37.0            1.113889         135.0   \n",
       "2023-12-26           1.073161         38.0            1.117612         136.0   \n",
       "\n",
       "            Close_Ratio500_1000  Trend500_1000  \n",
       "Date                                            \n",
       "1962-01-02                  NaN            NaN  \n",
       "1962-01-03                  NaN            NaN  \n",
       "1962-01-04                  NaN            NaN  \n",
       "1962-01-05                  NaN            NaN  \n",
       "1962-01-08                  NaN            NaN  \n",
       "...                         ...            ...  \n",
       "2023-12-19             1.203954          529.0  \n",
       "2023-12-20             1.185835          528.0  \n",
       "2023-12-21             1.197601          528.0  \n",
       "2023-12-22             1.199129          529.0  \n",
       "2023-12-26             1.203740          529.0  \n",
       "\n",
       "[15603 rows x 33 columns]"
      ]
     },
     "execution_count": 8,
     "metadata": {},
     "output_type": "execute_result"
    }
   ],
   "source": [
    "df"
   ]
  },
  {
   "cell_type": "code",
   "execution_count": 10,
   "id": "4b6205f3",
   "metadata": {},
   "outputs": [],
   "source": [
    "df = detect_head_shoulder(df)\n",
    "df = detect_multiple_tops_bottoms(df)\n",
    "df = calculate_support_resistance(df)\n",
    "df = detect_triangle_pattern(df)\n",
    "df = detect_double_top_bottom(df)\n",
    "df = detect_trendline(df)"
   ]
  },
  {
   "cell_type": "code",
   "execution_count": 11,
   "id": "064486df",
   "metadata": {},
   "outputs": [],
   "source": [
    "df.drop(df.loc[df.high_roll_max.isna()].index, inplace = True)\n",
    "df.head_shoulder_pattern.fillna('neither', inplace = True)\n",
    "df.drop('multiple_top_bottom_pattern', axis = 1, inplace = True)\n",
    "df.drop(['resistance', 'support'], axis = 1, inplace = True)\n",
    "df.triangle_pattern.fillna('neither', inplace = True)\n",
    "df.double_pattern.fillna('neither', inplace = True)"
   ]
  },
  {
   "cell_type": "markdown",
   "id": "998a6b17",
   "metadata": {},
   "source": [
    "## Only data from 2010-01-01 in model"
   ]
  },
  {
   "cell_type": "code",
   "execution_count": 18,
   "id": "392df2ca",
   "metadata": {},
   "outputs": [],
   "source": [
    "df = df.loc[df.index >= '2010-01-01'].copy()"
   ]
  },
  {
   "cell_type": "code",
   "execution_count": 19,
   "id": "abe9a987",
   "metadata": {},
   "outputs": [
    {
     "data": {
      "text/html": [
       "<div>\n",
       "<style scoped>\n",
       "    .dataframe tbody tr th:only-of-type {\n",
       "        vertical-align: middle;\n",
       "    }\n",
       "\n",
       "    .dataframe tbody tr th {\n",
       "        vertical-align: top;\n",
       "    }\n",
       "\n",
       "    .dataframe thead th {\n",
       "        text-align: right;\n",
       "    }\n",
       "</style>\n",
       "<table border=\"1\" class=\"dataframe\">\n",
       "  <thead>\n",
       "    <tr style=\"text-align: right;\">\n",
       "      <th></th>\n",
       "      <th>Open</th>\n",
       "      <th>High</th>\n",
       "      <th>Low</th>\n",
       "      <th>Close</th>\n",
       "      <th>Adj Close</th>\n",
       "      <th>Volume</th>\n",
       "      <th>Close500</th>\n",
       "      <th>Tomorrow500</th>\n",
       "      <th>Change500</th>\n",
       "      <th>Target500</th>\n",
       "      <th>...</th>\n",
       "      <th>Trend500_1000</th>\n",
       "      <th>high_roll_max</th>\n",
       "      <th>low_roll_min</th>\n",
       "      <th>head_shoulder_pattern</th>\n",
       "      <th>close_roll_max</th>\n",
       "      <th>close_roll_min</th>\n",
       "      <th>triangle_pattern</th>\n",
       "      <th>double_pattern</th>\n",
       "      <th>slope</th>\n",
       "      <th>intercept</th>\n",
       "    </tr>\n",
       "    <tr>\n",
       "      <th>Date</th>\n",
       "      <th></th>\n",
       "      <th></th>\n",
       "      <th></th>\n",
       "      <th></th>\n",
       "      <th></th>\n",
       "      <th></th>\n",
       "      <th></th>\n",
       "      <th></th>\n",
       "      <th></th>\n",
       "      <th></th>\n",
       "      <th></th>\n",
       "      <th></th>\n",
       "      <th></th>\n",
       "      <th></th>\n",
       "      <th></th>\n",
       "      <th></th>\n",
       "      <th></th>\n",
       "      <th></th>\n",
       "      <th></th>\n",
       "      <th></th>\n",
       "      <th></th>\n",
       "    </tr>\n",
       "  </thead>\n",
       "  <tbody>\n",
       "    <tr>\n",
       "      <th>2010-01-04</th>\n",
       "      <td>28.580000</td>\n",
       "      <td>28.610001</td>\n",
       "      <td>28.450001</td>\n",
       "      <td>28.520000</td>\n",
       "      <td>18.498016</td>\n",
       "      <td>13870400</td>\n",
       "      <td>1132.989990</td>\n",
       "      <td>1136.520020</td>\n",
       "      <td>1.003116</td>\n",
       "      <td>1</td>\n",
       "      <td>...</td>\n",
       "      <td>539.0</td>\n",
       "      <td>28.950001</td>\n",
       "      <td>28.450001</td>\n",
       "      <td>neither</td>\n",
       "      <td>28.840000</td>\n",
       "      <td>28.500000</td>\n",
       "      <td>Ascending Triangle</td>\n",
       "      <td>neither</td>\n",
       "      <td>-0.340000</td>\n",
       "      <td>4136.721844</td>\n",
       "    </tr>\n",
       "    <tr>\n",
       "      <th>2010-01-05</th>\n",
       "      <td>28.424999</td>\n",
       "      <td>28.495001</td>\n",
       "      <td>28.070000</td>\n",
       "      <td>28.174999</td>\n",
       "      <td>18.274248</td>\n",
       "      <td>23172400</td>\n",
       "      <td>1136.520020</td>\n",
       "      <td>1137.140015</td>\n",
       "      <td>1.000546</td>\n",
       "      <td>1</td>\n",
       "      <td>...</td>\n",
       "      <td>539.0</td>\n",
       "      <td>28.875000</td>\n",
       "      <td>28.070000</td>\n",
       "      <td>neither</td>\n",
       "      <td>28.520000</td>\n",
       "      <td>28.174999</td>\n",
       "      <td>neither</td>\n",
       "      <td>neither</td>\n",
       "      <td>0.020000</td>\n",
       "      <td>-213.165531</td>\n",
       "    </tr>\n",
       "    <tr>\n",
       "      <th>2010-01-06</th>\n",
       "      <td>28.174999</td>\n",
       "      <td>28.219999</td>\n",
       "      <td>27.990000</td>\n",
       "      <td>28.165001</td>\n",
       "      <td>18.267765</td>\n",
       "      <td>19264600</td>\n",
       "      <td>1137.140015</td>\n",
       "      <td>1141.689941</td>\n",
       "      <td>1.004001</td>\n",
       "      <td>1</td>\n",
       "      <td>...</td>\n",
       "      <td>540.0</td>\n",
       "      <td>28.610001</td>\n",
       "      <td>27.990000</td>\n",
       "      <td>neither</td>\n",
       "      <td>28.520000</td>\n",
       "      <td>28.165001</td>\n",
       "      <td>neither</td>\n",
       "      <td>neither</td>\n",
       "      <td>-0.345001</td>\n",
       "      <td>4197.514751</td>\n",
       "    </tr>\n",
       "    <tr>\n",
       "      <th>2010-01-07</th>\n",
       "      <td>28.165001</td>\n",
       "      <td>28.184999</td>\n",
       "      <td>27.875000</td>\n",
       "      <td>28.094999</td>\n",
       "      <td>18.222368</td>\n",
       "      <td>13234600</td>\n",
       "      <td>1141.689941</td>\n",
       "      <td>1144.979980</td>\n",
       "      <td>1.002882</td>\n",
       "      <td>1</td>\n",
       "      <td>...</td>\n",
       "      <td>541.0</td>\n",
       "      <td>28.495001</td>\n",
       "      <td>27.875000</td>\n",
       "      <td>neither</td>\n",
       "      <td>28.174999</td>\n",
       "      <td>28.094999</td>\n",
       "      <td>neither</td>\n",
       "      <td>neither</td>\n",
       "      <td>-0.009998</td>\n",
       "      <td>149.004715</td>\n",
       "    </tr>\n",
       "    <tr>\n",
       "      <th>2010-01-08</th>\n",
       "      <td>27.730000</td>\n",
       "      <td>27.820000</td>\n",
       "      <td>27.375000</td>\n",
       "      <td>27.575001</td>\n",
       "      <td>17.885092</td>\n",
       "      <td>28712400</td>\n",
       "      <td>1144.979980</td>\n",
       "      <td>1146.979980</td>\n",
       "      <td>1.001747</td>\n",
       "      <td>1</td>\n",
       "      <td>...</td>\n",
       "      <td>541.0</td>\n",
       "      <td>28.219999</td>\n",
       "      <td>27.375000</td>\n",
       "      <td>neither</td>\n",
       "      <td>28.165001</td>\n",
       "      <td>27.575001</td>\n",
       "      <td>neither</td>\n",
       "      <td>neither</td>\n",
       "      <td>-0.070002</td>\n",
       "      <td>874.204365</td>\n",
       "    </tr>\n",
       "  </tbody>\n",
       "</table>\n",
       "<p>5 rows × 42 columns</p>\n",
       "</div>"
      ],
      "text/plain": [
       "                 Open       High        Low      Close  Adj Close    Volume  \\\n",
       "Date                                                                          \n",
       "2010-01-04  28.580000  28.610001  28.450001  28.520000  18.498016  13870400   \n",
       "2010-01-05  28.424999  28.495001  28.070000  28.174999  18.274248  23172400   \n",
       "2010-01-06  28.174999  28.219999  27.990000  28.165001  18.267765  19264600   \n",
       "2010-01-07  28.165001  28.184999  27.875000  28.094999  18.222368  13234600   \n",
       "2010-01-08  27.730000  27.820000  27.375000  27.575001  17.885092  28712400   \n",
       "\n",
       "               Close500  Tomorrow500  Change500  Target500  ...  \\\n",
       "Date                                                        ...   \n",
       "2010-01-04  1132.989990  1136.520020   1.003116          1  ...   \n",
       "2010-01-05  1136.520020  1137.140015   1.000546          1  ...   \n",
       "2010-01-06  1137.140015  1141.689941   1.004001          1  ...   \n",
       "2010-01-07  1141.689941  1144.979980   1.002882          1  ...   \n",
       "2010-01-08  1144.979980  1146.979980   1.001747          1  ...   \n",
       "\n",
       "            Trend500_1000  high_roll_max  low_roll_min  head_shoulder_pattern  \\\n",
       "Date                                                                            \n",
       "2010-01-04          539.0      28.950001     28.450001                neither   \n",
       "2010-01-05          539.0      28.875000     28.070000                neither   \n",
       "2010-01-06          540.0      28.610001     27.990000                neither   \n",
       "2010-01-07          541.0      28.495001     27.875000                neither   \n",
       "2010-01-08          541.0      28.219999     27.375000                neither   \n",
       "\n",
       "            close_roll_max  close_roll_min    triangle_pattern  \\\n",
       "Date                                                             \n",
       "2010-01-04       28.840000       28.500000  Ascending Triangle   \n",
       "2010-01-05       28.520000       28.174999             neither   \n",
       "2010-01-06       28.520000       28.165001             neither   \n",
       "2010-01-07       28.174999       28.094999             neither   \n",
       "2010-01-08       28.165001       27.575001             neither   \n",
       "\n",
       "            double_pattern     slope    intercept  \n",
       "Date                                               \n",
       "2010-01-04         neither -0.340000  4136.721844  \n",
       "2010-01-05         neither  0.020000  -213.165531  \n",
       "2010-01-06         neither -0.345001  4197.514751  \n",
       "2010-01-07         neither -0.009998   149.004715  \n",
       "2010-01-08         neither -0.070002   874.204365  \n",
       "\n",
       "[5 rows x 42 columns]"
      ]
     },
     "execution_count": 19,
     "metadata": {},
     "output_type": "execute_result"
    }
   ],
   "source": [
    "df.head()"
   ]
  },
  {
   "cell_type": "code",
   "execution_count": 20,
   "id": "1941a822",
   "metadata": {},
   "outputs": [],
   "source": [
    "df.dropna(inplace=True)"
   ]
  },
  {
   "cell_type": "code",
   "execution_count": 21,
   "id": "b77d10b7",
   "metadata": {},
   "outputs": [
    {
     "name": "stdout",
     "output_type": "stream",
     "text": [
      "<class 'pandas.core.frame.DataFrame'>\n",
      "DatetimeIndex: 3518 entries, 2010-01-04 to 2023-12-22\n",
      "Data columns (total 42 columns):\n",
      " #   Column                 Non-Null Count  Dtype  \n",
      "---  ------                 --------------  -----  \n",
      " 0   Open                   3518 non-null   float64\n",
      " 1   High                   3518 non-null   float64\n",
      " 2   Low                    3518 non-null   float64\n",
      " 3   Close                  3518 non-null   float64\n",
      " 4   Adj Close              3518 non-null   float64\n",
      " 5   Volume                 3518 non-null   int64  \n",
      " 6   Close500               3518 non-null   float64\n",
      " 7   Tomorrow500            3518 non-null   float64\n",
      " 8   Change500              3518 non-null   float64\n",
      " 9   Target500              3518 non-null   int64  \n",
      " 10  Tomorrow               3518 non-null   float64\n",
      " 11  Change                 3518 non-null   float64\n",
      " 12  Target                 3518 non-null   int64  \n",
      " 13  Close_Ratio_2          3518 non-null   float64\n",
      " 14  Trend_2                3518 non-null   float64\n",
      " 15  Close_Ratio_5          3518 non-null   float64\n",
      " 16  Trend_5                3518 non-null   float64\n",
      " 17  Close_Ratio_60         3518 non-null   float64\n",
      " 18  Trend_60               3518 non-null   float64\n",
      " 19  Close_Ratio_250        3518 non-null   float64\n",
      " 20  Trend_250              3518 non-null   float64\n",
      " 21  Close_Ratio_1000       3518 non-null   float64\n",
      " 22  Trend_1000             3518 non-null   float64\n",
      " 23  Close_Ratio500_2       3518 non-null   float64\n",
      " 24  Trend500_2             3518 non-null   float64\n",
      " 25  Close_Ratio500_5       3518 non-null   float64\n",
      " 26  Trend500_5             3518 non-null   float64\n",
      " 27  Close_Ratio500_60      3518 non-null   float64\n",
      " 28  Trend500_60            3518 non-null   float64\n",
      " 29  Close_Ratio500_250     3518 non-null   float64\n",
      " 30  Trend500_250           3518 non-null   float64\n",
      " 31  Close_Ratio500_1000    3518 non-null   float64\n",
      " 32  Trend500_1000          3518 non-null   float64\n",
      " 33  high_roll_max          3518 non-null   float64\n",
      " 34  low_roll_min           3518 non-null   float64\n",
      " 35  head_shoulder_pattern  3518 non-null   object \n",
      " 36  close_roll_max         3518 non-null   float64\n",
      " 37  close_roll_min         3518 non-null   float64\n",
      " 38  triangle_pattern       3518 non-null   object \n",
      " 39  double_pattern         3518 non-null   object \n",
      " 40  slope                  3518 non-null   float64\n",
      " 41  intercept              3518 non-null   float64\n",
      "dtypes: float64(36), int64(3), object(3)\n",
      "memory usage: 1.2+ MB\n"
     ]
    }
   ],
   "source": [
    "df.info()"
   ]
  },
  {
   "cell_type": "code",
   "execution_count": 22,
   "id": "5dad2860",
   "metadata": {},
   "outputs": [
    {
     "data": {
      "text/plain": [
       "Index(['Open', 'High', 'Low', 'Close', 'Adj Close', 'Volume', 'Close500',\n",
       "       'Tomorrow500', 'Change500', 'Target500', 'Tomorrow', 'Change', 'Target',\n",
       "       'Close_Ratio_2', 'Trend_2', 'Close_Ratio_5', 'Trend_5',\n",
       "       'Close_Ratio_60', 'Trend_60', 'Close_Ratio_250', 'Trend_250',\n",
       "       'Close_Ratio_1000', 'Trend_1000', 'Close_Ratio500_2', 'Trend500_2',\n",
       "       'Close_Ratio500_5', 'Trend500_5', 'Close_Ratio500_60', 'Trend500_60',\n",
       "       'Close_Ratio500_250', 'Trend500_250', 'Close_Ratio500_1000',\n",
       "       'Trend500_1000', 'high_roll_max', 'low_roll_min',\n",
       "       'head_shoulder_pattern', 'close_roll_max', 'close_roll_min',\n",
       "       'triangle_pattern', 'double_pattern', 'slope', 'intercept'],\n",
       "      dtype='object')"
      ]
     },
     "execution_count": 22,
     "metadata": {},
     "output_type": "execute_result"
    }
   ],
   "source": [
    "df.columns"
   ]
  },
  {
   "cell_type": "markdown",
   "id": "8d1eefda",
   "metadata": {},
   "source": [
    "## X and y"
   ]
  },
  {
   "cell_type": "code",
   "execution_count": 23,
   "id": "08a93cbf",
   "metadata": {},
   "outputs": [],
   "source": [
    "X = df.drop(['Open', 'Close', 'Adj Close', 'Change',\n",
    "       'Tomorrow', 'Target', 'Tomorrow500', 'Change500', 'Target500', 'Close500'], axis = 1)\n",
    "y = df['Target']"
   ]
  },
  {
   "cell_type": "markdown",
   "id": "b22e1e18",
   "metadata": {},
   "source": [
    "## Train test split custom"
   ]
  },
  {
   "cell_type": "code",
   "execution_count": 25,
   "id": "32a19188",
   "metadata": {},
   "outputs": [],
   "source": [
    "def train_test_split_time_series(X, y, test_size):\n",
    "    '''\n",
    "    Splits time series data into train and test by test_size\n",
    "    \n",
    "    Input params\n",
    "    X: Feature data\n",
    "    y: Target data\n",
    "    test_size: Float between 0 and 1\n",
    "    \n",
    "    Returns: X_train, X_test, y_train, y_test\n",
    "    '''\n",
    "    date = X.iloc[len(X)-int(len(X)*test_size)].name       \n",
    "    X_train = X.loc[X.index < date]\n",
    "    X_test = X.loc[X.index >= date]\n",
    "    y_train = y[:len(X_train)]\n",
    "    y_test = y[len(X_train):]\n",
    "    return X_train, X_test, y_train, y_test"
   ]
  },
  {
   "cell_type": "code",
   "execution_count": 26,
   "id": "7270cd04",
   "metadata": {},
   "outputs": [],
   "source": [
    "X_train, X_test, y_train, y_test = train_test_split_time_series(X, y, 0.2)"
   ]
  },
  {
   "cell_type": "markdown",
   "id": "1415b80e",
   "metadata": {},
   "source": [
    "## Calculate a baseline\n",
    "\n",
    "If the model would predict that every day of the test data would be a 1 (increasing the next day) the model would be correct 54 % of the time. This is what we want the model to beat. This score represents the precision."
   ]
  },
  {
   "cell_type": "code",
   "execution_count": 29,
   "id": "f17697c4",
   "metadata": {},
   "outputs": [],
   "source": [
    "baseline = y_test.value_counts(normalize = True).loc[1]"
   ]
  },
  {
   "cell_type": "code",
   "execution_count": 30,
   "id": "8dd490a1",
   "metadata": {},
   "outputs": [
    {
     "data": {
      "text/plain": [
       "0.5391180654338549"
      ]
     },
     "execution_count": 30,
     "metadata": {},
     "output_type": "execute_result"
    }
   ],
   "source": [
    "baseline"
   ]
  },
  {
   "cell_type": "markdown",
   "id": "38ffa128",
   "metadata": {},
   "source": [
    "## Custom cross validation for time series data"
   ]
  },
  {
   "cell_type": "code",
   "execution_count": 39,
   "id": "2fdfc12e",
   "metadata": {},
   "outputs": [],
   "source": [
    "import numpy as np\n",
    "from sklearn.model_selection import TimeSeriesSplit\n",
    "from sklearn.metrics import precision_score, make_scorer\n",
    "\n",
    "def grid_search_time_series_simple(model, X, y, cv, output = True):\n",
    "    '''\n",
    "    Function that cross validates the data and returns the precision score for the current model\n",
    "    \n",
    "    Input params\n",
    "    model: ML model to be used in the gridsearch\n",
    "    X: Feature data for the model\n",
    "    y: Target data for the model\n",
    "    cv: Int for number of splits\n",
    "    output = True: Boolean for showing the output or not\n",
    "    \n",
    "    Returns: model name and precision score in a list\n",
    "    '''\n",
    "    precision_scores = []\n",
    "    predictions = []\n",
    "    \n",
    "    tscv = TimeSeriesSplit(n_splits=cv)\n",
    "    for train_index, test_index in tscv.split(X):\n",
    "        X_train_cv, X_test_cv = X.iloc[train_index], X.iloc[test_index]\n",
    "        y_train_cv, y_test_cv = y.iloc[train_index], y.iloc[test_index]\n",
    "        model.fit(X_train_cv, y_train_cv)\n",
    "        y_pred = model.predict(X_test_cv)\n",
    "        precision_scores.append(precision_score(y_test_cv, y_pred, zero_division = 0))\n",
    "    if output == True:\n",
    "        print(model[1], sum(precision_scores) / len(precision_scores))\n",
    "    return [model[1], sum(precision_scores) / len(precision_scores)]"
   ]
  },
  {
   "cell_type": "markdown",
   "id": "023de784",
   "metadata": {},
   "source": [
    "## Function to use another threshold than 0.5 for predictions"
   ]
  },
  {
   "cell_type": "code",
   "execution_count": 38,
   "id": "0c47c128",
   "metadata": {},
   "outputs": [],
   "source": [
    "def predict_threshold(model, X, t):\n",
    "    '''\n",
    "    Function that changes the threshold of predictions and returns the new predictions\n",
    "    \n",
    "    Input params\n",
    "    model: Trained ML model\n",
    "    X: Feature data to predict on\n",
    "    t: Threshold between 0 and 1\n",
    "    \n",
    "    Returns y_pred (1 or 0)\n",
    "    '''\n",
    "    y_proba = model.predict_proba(X)[:, 1]\n",
    "    y_pred = (y_proba > t).astype(int)\n",
    "    return y_pred"
   ]
  },
  {
   "cell_type": "markdown",
   "id": "2bea81fe",
   "metadata": {},
   "source": [
    "## Importing models for cross validation"
   ]
  },
  {
   "cell_type": "code",
   "execution_count": 188,
   "id": "a9d599f8",
   "metadata": {},
   "outputs": [
    {
     "name": "stdout",
     "output_type": "stream",
     "text": [
      "RandomForestClassifier() 0.5757278268899755\n",
      "KNeighborsClassifier() 0.5394020066053458\n",
      "SVC() 0.5491251968577913\n",
      "LogisticRegression(max_iter=1000) 0.5642611933555016\n"
     ]
    }
   ],
   "source": [
    "from sklearn.preprocessing import StandardScaler, OneHotEncoder\n",
    "from sklearn.pipeline import make_pipeline\n",
    "from sklearn.tree import DecisionTreeClassifier\n",
    "from sklearn.ensemble import RandomForestClassifier, GradientBoostingClassifier\n",
    "from sklearn.svm import SVC\n",
    "from sklearn.linear_model import LogisticRegression\n",
    "from sklearn.compose import make_column_transformer\n",
    "from sklearn.neighbors import KNeighborsClassifier\n",
    "\n",
    "models = [RandomForestClassifier(),\n",
    "          KNeighborsClassifier(),\n",
    "          SVC(),\n",
    "          LogisticRegression(max_iter = 1000)]\n",
    "\n",
    "num_features = X.select_dtypes('number').columns\n",
    "cat_features = X.select_dtypes(object).columns\n",
    "\n",
    "scaler = StandardScaler()\n",
    "\n",
    "encoder = OneHotEncoder(handle_unknown = 'error', drop = 'if_binary')\n",
    "\n",
    "num_trans = scaler\n",
    "cat_trans = encoder\n",
    "\n",
    "preprocessor = make_column_transformer((num_trans, num_features), (cat_trans, cat_features))\n",
    "\n",
    "for model in models:\n",
    "    pipe = make_pipeline(preprocessor, model)\n",
    "    grid_search_time_series_simple(pipe, X_train, y_train, 5)\n"
   ]
  },
  {
   "cell_type": "markdown",
   "id": "38dfb954",
   "metadata": {},
   "source": [
    "## Custom hyperparameter tuning LogReg"
   ]
  },
  {
   "cell_type": "code",
   "execution_count": 189,
   "id": "6baa62d9",
   "metadata": {},
   "outputs": [
    {
     "name": "stdout",
     "output_type": "stream",
     "text": [
      "best model: LogisticRegression(C=0.01, max_iter=1000), precision score: 0.5776970689354728\n"
     ]
    }
   ],
   "source": [
    "models = []\n",
    "for c in [0.001, 0.01, 0.1, 0.5, 1, 2, 3, 5, 7, 10]:\n",
    "    models.append(LogisticRegression(C = c, max_iter = 1000))\n",
    "\n",
    "    \n",
    "results = []    \n",
    "for model in models:\n",
    "    pipe = make_pipeline(preprocessor, model)\n",
    "    results.append(grid_search_time_series_simple(pipe, X_train, y_train, 5, False))\n",
    "best_score_logreg = 0\n",
    "best_model_logreg = ''\n",
    "for row in results:\n",
    "    if row[1] > best_score_logreg:\n",
    "        best_score_logreg = row[1]\n",
    "        best_model_logreg = row[0]\n",
    "print(f'best model: {best_model_logreg}, precision score: {best_score_logreg}')"
   ]
  },
  {
   "cell_type": "markdown",
   "id": "eb073c4e",
   "metadata": {},
   "source": [
    "## Custom hyperparameter tuning Random Forest"
   ]
  },
  {
   "cell_type": "code",
   "execution_count": 190,
   "id": "46ac60b3",
   "metadata": {
    "scrolled": true
   },
   "outputs": [
    {
     "name": "stdout",
     "output_type": "stream",
     "text": [
      "best model: RandomForestClassifier(max_depth=10, min_samples_leaf=4, min_samples_split=10,\n",
      "                       n_estimators=200, n_jobs=-1), precision score: 0.6141361311963581\n"
     ]
    }
   ],
   "source": [
    "models = []\n",
    "for n in [100, 200, 300]:\n",
    "    for min_samples_leaf in [1, 2, 4]:\n",
    "        for min_samples_split in [2, 5, 10]:\n",
    "            for max_depth in [10, 20, 30, 40, 50, 60, 70, 80, 90, 100, None]:\n",
    "                models.append(RandomForestClassifier(n_jobs = -1, n_estimators = n, min_samples_leaf = min_samples_leaf,\n",
    "                                                     min_samples_split = min_samples_split, max_depth = max_depth))\n",
    "results = []  \n",
    "for model in models:\n",
    "    pipe = make_pipeline(preprocessor, model)\n",
    "    results.append(grid_search_time_series_simple(pipe, X_train, y_train, 5, False))\n",
    "best_score_rf = 0\n",
    "best_model_rf = ''\n",
    "for row in results:\n",
    "    if row[1] > best_score_rf:\n",
    "        best_score_rf = row[1]\n",
    "        best_model_rf = row[0]\n",
    "print(f'best model: {best_model_rf}, precision score: {best_score_rf}')"
   ]
  },
  {
   "cell_type": "markdown",
   "id": "2545b7a4",
   "metadata": {},
   "source": [
    "## Custom hyperparameter tuning KNN"
   ]
  },
  {
   "cell_type": "code",
   "execution_count": 31,
   "id": "2df83830",
   "metadata": {},
   "outputs": [
    {
     "name": "stdout",
     "output_type": "stream",
     "text": [
      "best model: KNeighborsClassifier(n_neighbors=7), precision score: 0.5458275007280775\n"
     ]
    }
   ],
   "source": [
    "models = []\n",
    "for n_neighbors in range(1, 30):\n",
    "    models.append(KNeighborsClassifier(n_neighbors = n_neighbors))\n",
    "    \n",
    "results = []  \n",
    "for model in models:\n",
    "    pipe = make_pipeline(preprocessor, model)\n",
    "    results.append(grid_search_time_series_simple(pipe, X_train, y_train, 5, False))\n",
    "best_score_knn = 0\n",
    "best_model_knn = ''\n",
    "for row in results:\n",
    "    if row[1] > best_score_knn:\n",
    "        best_score_knn = row[1]\n",
    "        best_model_knn = row[0]\n",
    "print(f'best model: {best_model_knn}, precision score: {best_score_knn}')\n"
   ]
  },
  {
   "cell_type": "markdown",
   "id": "c80edad3",
   "metadata": {},
   "source": [
    "## Custom hyperparameter tuning SVC"
   ]
  },
  {
   "cell_type": "code",
   "execution_count": null,
   "id": "c39182b4",
   "metadata": {},
   "outputs": [],
   "source": [
    "models = []\n",
    "for c in [0.001, 0.01, 0.1, 1, 10, 100, 1000]:\n",
    "    for gamma in [1, 0.1, 0.01, 0.001, 0.0001]:\n",
    "        for kernel in ['linear', 'poly', 'rbf', 'sigmoid']:\n",
    "            models.append(SVC(C = c, gamma = gamma, kernel = kernel))\n",
    "    \n",
    "results = []  \n",
    "for model in models:\n",
    "    pipe = make_pipeline(preprocessor, model)\n",
    "    results.append(grid_search_time_series_simple(pipe, X_train, y_train, 5, False))\n",
    "best_score_svc = 0\n",
    "best_model_svc = ''\n",
    "for row in results:\n",
    "    if row[1] > best_score_svc:\n",
    "        best_score_svc = row[1]\n",
    "        best_model_svc = row[0]\n",
    "print(f'best model: {best_model_svc}, precision score: {best_score_svc}')\n"
   ]
  },
  {
   "cell_type": "markdown",
   "id": "a81ff12b",
   "metadata": {},
   "source": [
    "## LogReg Model evaluation training data"
   ]
  },
  {
   "cell_type": "code",
   "execution_count": 65,
   "id": "c2ed0d1d",
   "metadata": {},
   "outputs": [
    {
     "data": {
      "image/png": "[encoded data removed]",
      "text/plain": [
       "<Figure size 640x480 with 2 Axes>"
      ]
     },
     "metadata": {},
     "output_type": "display_data"
    },
    {
     "name": "stdout",
     "output_type": "stream",
     "text": [
      "Precision: 0.6378326996197718\n"
     ]
    }
   ],
   "source": [
    "from sklearn.metrics import ConfusionMatrixDisplay, confusion_matrix\n",
    "import matplotlib.pyplot as plt\n",
    "\n",
    "pipe_logreg = make_pipeline(preprocessor, best_model_logreg)\n",
    "pipe_logreg.fit(X_train, y_train)\n",
    "\n",
    "y_pred = predict_threshold(pipe_logreg, X_train, 0.55)\n",
    "\n",
    "cm = confusion_matrix(y_train, y_pred)\n",
    "disp = ConfusionMatrixDisplay(confusion_matrix=cm, display_labels=pipe_logreg.classes_) \n",
    "disp.plot( values_format='d')\n",
    "plt.show()\n",
    "\n",
    "precision = precision_score(y_train, y_pred)\n",
    "print(f'Precision: {precision}')"
   ]
  },
  {
   "cell_type": "markdown",
   "id": "6428d160",
   "metadata": {},
   "source": [
    "## Random Forest model evaluation training data"
   ]
  },
  {
   "cell_type": "code",
   "execution_count": 158,
   "id": "b9196e9a",
   "metadata": {},
   "outputs": [
    {
     "data": {
      "image/png": "[encoded data removed]",
      "text/plain": [
       "<Figure size 640x480 with 2 Axes>"
      ]
     },
     "metadata": {},
     "output_type": "display_data"
    },
    {
     "name": "stdout",
     "output_type": "stream",
     "text": [
      "Precision: 0.9942487419122933\n"
     ]
    }
   ],
   "source": [
    "pipe_rf = make_pipeline(preprocessor, best_model_rf)\n",
    "pipe_rf.fit(X_train, y_train)\n",
    "\n",
    "y_pred = predict_threshold(pipe_rf, X_train, 0.55)\n",
    "\n",
    "cm = confusion_matrix(y_train, y_pred)\n",
    "disp = ConfusionMatrixDisplay(confusion_matrix=cm, display_labels=pipe_rf.classes_) \n",
    "disp.plot( values_format='d')\n",
    "plt.show()\n",
    "\n",
    "precision = precision_score(y_train, y_pred)\n",
    "print(f'Precision: {precision}')"
   ]
  },
  {
   "cell_type": "markdown",
   "id": "1b4f0014",
   "metadata": {},
   "source": [
    "## KNN model evaluation training data"
   ]
  },
  {
   "cell_type": "code",
   "execution_count": 73,
   "id": "f49bcef8",
   "metadata": {
    "scrolled": false
   },
   "outputs": [
    {
     "data": {
      "image/png": "[encoded data removed]",
      "text/plain": [
       "<Figure size 640x480 with 2 Axes>"
      ]
     },
     "metadata": {},
     "output_type": "display_data"
    },
    {
     "name": "stdout",
     "output_type": "stream",
     "text": [
      "Precision: 0.6734426229508197\n"
     ]
    }
   ],
   "source": [
    "pipe_knn = make_pipeline(preprocessor, best_model_knn)\n",
    "pipe_knn.fit(X_train, y_train)\n",
    "\n",
    "y_pred = predict_threshold(pipe_knn, X_train, 0.55)\n",
    "\n",
    "cm = confusion_matrix(y_train, y_pred)\n",
    "disp = ConfusionMatrixDisplay(confusion_matrix=cm, display_labels=pipe_knn.classes_) \n",
    "disp.plot( values_format='d')\n",
    "plt.show()\n",
    "\n",
    "precision = precision_score(y_train, y_pred)\n",
    "print(f'Precision: {precision}')"
   ]
  },
  {
   "cell_type": "markdown",
   "id": "c0789c51",
   "metadata": {},
   "source": [
    "## SVC model evaluation training data"
   ]
  },
  {
   "cell_type": "code",
   "execution_count": 59,
   "id": "390ddf25",
   "metadata": {},
   "outputs": [
    {
     "data": {
      "image/png": "[encoded data removed]",
      "text/plain": [
       "<Figure size 640x480 with 2 Axes>"
      ]
     },
     "metadata": {},
     "output_type": "display_data"
    },
    {
     "name": "stdout",
     "output_type": "stream",
     "text": [
      "0.6430611079383209\n"
     ]
    }
   ],
   "source": [
    "pipe_svc = make_pipeline(preprocessor, best_model_svc)\n",
    "pipe_svc.fit(X_train, y_train)\n",
    "\n",
    "y_pred = pipe_svc.predict(X_train)\n",
    "\n",
    "ConfusionMatrixDisplay.from_estimator(pipe_svc, X_train, y_train)\n",
    "plt.show()\n",
    "\n",
    "print(precision_score(y_train, y_pred))"
   ]
  },
  {
   "cell_type": "markdown",
   "id": "2aa6520d",
   "metadata": {},
   "source": [
    "## LogReg Model evaluation test data"
   ]
  },
  {
   "cell_type": "code",
   "execution_count": 77,
   "id": "6aa75f82",
   "metadata": {},
   "outputs": [
    {
     "data": {
      "image/png": "[encoded data removed]",
      "text/plain": [
       "<Figure size 640x480 with 2 Axes>"
      ]
     },
     "metadata": {},
     "output_type": "display_data"
    },
    {
     "name": "stdout",
     "output_type": "stream",
     "text": [
      "Precision: 0.6524064171122995\n"
     ]
    }
   ],
   "source": [
    "y_pred = predict_threshold(pipe_logreg, X_test, 0.55)\n",
    "\n",
    "cm = confusion_matrix(y_test, y_pred)\n",
    "disp = ConfusionMatrixDisplay(confusion_matrix=cm, display_labels=pipe_logreg.classes_) \n",
    "disp.plot( values_format='d')\n",
    "plt.show()\n",
    "\n",
    "precision = precision_score(y_test, y_pred)\n",
    "print(f'Precision: {precision}')"
   ]
  },
  {
   "cell_type": "markdown",
   "id": "b0746393",
   "metadata": {},
   "source": [
    "## Random Forest model evaluation test data"
   ]
  },
  {
   "cell_type": "code",
   "execution_count": 160,
   "id": "ecce085a",
   "metadata": {
    "scrolled": false
   },
   "outputs": [
    {
     "data": {
      "image/png": "[encoded data removed]",
      "text/plain": [
       "<Figure size 640x480 with 2 Axes>"
      ]
     },
     "metadata": {},
     "output_type": "display_data"
    },
    {
     "name": "stdout",
     "output_type": "stream",
     "text": [
      "Precision: 0.6842105263157895\n"
     ]
    }
   ],
   "source": [
    "y_pred = predict_threshold(pipe_rf, X_test, 0.55)\n",
    "\n",
    "cm = confusion_matrix(y_test, y_pred)\n",
    "disp = ConfusionMatrixDisplay(confusion_matrix=cm, display_labels=pipe_rf.classes_) \n",
    "disp.plot( values_format='d')\n",
    "plt.savefig('randomforest.png', dpi=600, transparent=False, bbox_inches='tight', \n",
    "            format='png')\n",
    "plt.show()\n",
    "\n",
    "precision = precision_score(y_test, y_pred)\n",
    "\n",
    "print(f'Precision: {precision}')\n"
   ]
  },
  {
   "cell_type": "markdown",
   "id": "5ba55552",
   "metadata": {},
   "source": [
    "## KNN model evaluation test data"
   ]
  },
  {
   "cell_type": "code",
   "execution_count": 84,
   "id": "7c8b49eb",
   "metadata": {},
   "outputs": [
    {
     "data": {
      "image/png": "[encoded data removed]",
      "text/plain": [
       "<Figure size 640x480 with 2 Axes>"
      ]
     },
     "metadata": {},
     "output_type": "display_data"
    },
    {
     "name": "stdout",
     "output_type": "stream",
     "text": [
      "Precision: 0.5558441558441558\n"
     ]
    }
   ],
   "source": [
    "y_pred = predict_threshold(pipe_knn, X_test, 0.55)\n",
    "\n",
    "cm = confusion_matrix(y_test, y_pred)\n",
    "disp = ConfusionMatrixDisplay(confusion_matrix=cm, display_labels=pipe_knn.classes_) \n",
    "disp.plot( values_format='d')\n",
    "plt.show()\n",
    "\n",
    "precision = precision_score(y_test, y_pred)\n",
    "print(f'Precision: {precision}')"
   ]
  },
  {
   "cell_type": "markdown",
   "id": "dd4df221",
   "metadata": {},
   "source": [
    "## SVC model evaluation test datam"
   ]
  },
  {
   "cell_type": "code",
   "execution_count": 85,
   "id": "7775af2d",
   "metadata": {},
   "outputs": [
    {
     "data": {
      "image/png": "[encoded data removed]",
      "text/plain": [
       "<Figure size 640x480 with 2 Axes>"
      ]
     },
     "metadata": {},
     "output_type": "display_data"
    },
    {
     "name": "stdout",
     "output_type": "stream",
     "text": [
      "0.64\n"
     ]
    }
   ],
   "source": [
    "y_pred = pipe_svc.predict(X_test)\n",
    "\n",
    "ConfusionMatrixDisplay.from_estimator(pipe_svc, X_test, y_test)\n",
    "plt.show()\n",
    "\n",
    "print(precision_score(y_test, y_pred))"
   ]
  },
  {
   "cell_type": "markdown",
   "id": "54f0362f",
   "metadata": {},
   "source": [
    "## Train Random Forest on both train and test data"
   ]
  },
  {
   "cell_type": "code",
   "execution_count": 153,
   "id": "c1ce89b2",
   "metadata": {},
   "outputs": [
    {
     "data": {
      "text/plain": [
       "['stock_prediction_train_test.joblib']"
      ]
     },
     "execution_count": 153,
     "metadata": {},
     "output_type": "execute_result"
    }
   ],
   "source": [
    "pipe_final = make_pipeline(preprocessor, best_model_rf)\n",
    "pipe_final.fit(X, y)\n",
    "\n",
    "from joblib import dump\n",
    "\n",
    "dump(pipe_final, 'stock_prediction_train_test.joblib')"
   ]
  },
  {
   "cell_type": "code",
   "execution_count": null,
   "id": "c6b73ee6",
   "metadata": {},
   "outputs": [],
   "source": []
  }
 ],
 "metadata": {
  "kernelspec": {
   "display_name": "Python 3 (ipykernel)",
   "language": "python",
   "name": "python3"
  },
  "language_info": {
   "codemirror_mode": {
    "name": "ipython",
    "version": 3
   },
   "file_extension": ".py",
   "mimetype": "text/x-python",
   "name": "python",
   "nbconvert_exporter": "python",
   "pygments_lexer": "ipython3",
   "version": "3.11.5"
  }
 },
 "nbformat": 4,
 "nbformat_minor": 5
}
